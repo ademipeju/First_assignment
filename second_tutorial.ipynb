{
 "cells": [
  {
   "cell_type": "markdown",
   "id": "aa7f68d1-8c6d-477a-bdd6-d79140de3812",
   "metadata": {},
   "source": [
    "# Unpack a collection\n",
    "If you have a collection of values in a list or tuple etc, Python allows you extract it into variables"
   ]
  },
  {
   "cell_type": "code",
   "execution_count": 1,
   "id": "46b361c2-7c47-4ece-97dc-a9b0731c8c7b",
   "metadata": {},
   "outputs": [
    {
     "name": "stdout",
     "output_type": "stream",
     "text": [
      "banana\n",
      "cherry\n",
      "guava\n"
     ]
    }
   ],
   "source": [
    "Fruits = [\"banana\", \"cherry\", \"guava\"]\n",
    "x,y,z = Fruits\n",
    "print(x)\n",
    "print(y)\n",
    "print(z)\n"
   ]
  },
  {
   "cell_type": "code",
   "execution_count": 2,
   "id": "df21eae2-4aaf-49ed-8f0c-5ee311c9d82b",
   "metadata": {},
   "outputs": [
    {
     "name": "stdout",
     "output_type": "stream",
     "text": [
      "Tesla\n",
      "Bentley\n",
      "G-wagon\n"
     ]
    }
   ],
   "source": [
    "Cars = [\"Tesla\", \"Bentley\", \"G-wagon\"]\n",
    "x,y,z = Cars\n",
    "print(x)\n",
    "print(y)\n",
    "print(z)"
   ]
  },
  {
   "cell_type": "markdown",
   "id": "4dcf46aa-8e71-46cf-a11e-41b8da8c262d",
   "metadata": {},
   "source": [
    "# Output Variables\n",
    "The python print() is often use to output variables"
   ]
  },
  {
   "cell_type": "code",
   "execution_count": 3,
   "id": "1e163f8e-210b-4508-9ab4-e5d178b41bbe",
   "metadata": {},
   "outputs": [
    {
     "name": "stdout",
     "output_type": "stream",
     "text": [
      "python is awesome\n"
     ]
    }
   ],
   "source": [
    "x= \"python is awesome\"\n",
    "print (x)"
   ]
  },
  {
   "cell_type": "code",
   "execution_count": 4,
   "id": "a68dd617-28b4-47c6-9f6d-e11036db8fae",
   "metadata": {},
   "outputs": [
    {
     "name": "stdout",
     "output_type": "stream",
     "text": [
      "I am a Data scientist\n"
     ]
    }
   ],
   "source": [
    "y= \"I am a Data scientist\"\n",
    "print(y)"
   ]
  },
  {
   "cell_type": "code",
   "execution_count": 5,
   "id": "3b3359cd-c4a3-4c26-8ee2-a23d0c073745",
   "metadata": {},
   "outputs": [
    {
     "name": "stdout",
     "output_type": "stream",
     "text": [
      "My assignment involves creating a repository\n"
     ]
    }
   ],
   "source": [
    "z= \"My assignment involves creating a repository\"\n",
    "print(z)"
   ]
  },
  {
   "cell_type": "code",
   "execution_count": 6,
   "id": "9acd2c54-9947-435b-a06b-66dd9900b353",
   "metadata": {},
   "outputs": [
    {
     "name": "stdout",
     "output_type": "stream",
     "text": [
      "food is good for the body\n"
     ]
    }
   ],
   "source": [
    "x=\"food\"\n",
    "y=\"is good\"\n",
    "z= \"for the body\"\n",
    "print(x,y,z)"
   ]
  },
  {
   "cell_type": "code",
   "execution_count": 7,
   "id": "bdb18e92-5247-44c1-b458-0bee727f5bb2",
   "metadata": {},
   "outputs": [
    {
     "name": "stdout",
     "output_type": "stream",
     "text": [
      "The world is going digital\n"
     ]
    }
   ],
   "source": [
    "x=\"The world\"\n",
    "y= (\"is going\")\n",
    "z=(\"digital\")\n",
    "print(x,y,z)"
   ]
  },
  {
   "cell_type": "code",
   "execution_count": 8,
   "id": "208faa6a-575d-4e25-9cfd-14f8ec96f267",
   "metadata": {},
   "outputs": [
    {
     "name": "stdout",
     "output_type": "stream",
     "text": [
      "25\n"
     ]
    }
   ],
   "source": [
    "x=5\n",
    "y=20\n",
    "print(x+y)"
   ]
  },
  {
   "cell_type": "code",
   "execution_count": 10,
   "id": "b3f7c013-f6c1-4d58-9c4c-919c042bddfe",
   "metadata": {},
   "outputs": [
    {
     "name": "stdout",
     "output_type": "stream",
     "text": [
      "15\n"
     ]
    }
   ],
   "source": [
    "x=20\n",
    "z=5\n",
    "print(x-z)"
   ]
  },
  {
   "cell_type": "code",
   "execution_count": 11,
   "id": "9954329b-ed54-425a-92cc-99e4ee7d22c7",
   "metadata": {},
   "outputs": [
    {
     "name": "stdout",
     "output_type": "stream",
     "text": [
      "60\n"
     ]
    }
   ],
   "source": [
    "x=20\n",
    "y=30\n",
    "z=10\n",
    "print(x+y+z)"
   ]
  },
  {
   "cell_type": "code",
   "execution_count": null,
   "id": "3a6b82ce-7d43-4942-bf76-f6fb425d8b6d",
   "metadata": {},
   "outputs": [],
   "source": []
  }
 ],
 "metadata": {
  "kernelspec": {
   "display_name": "Python 3 (ipykernel)",
   "language": "python",
   "name": "python3"
  },
  "language_info": {
   "codemirror_mode": {
    "name": "ipython",
    "version": 3
   },
   "file_extension": ".py",
   "mimetype": "text/x-python",
   "name": "python",
   "nbconvert_exporter": "python",
   "pygments_lexer": "ipython3",
   "version": "3.11.7"
  }
 },
 "nbformat": 4,
 "nbformat_minor": 5
}
