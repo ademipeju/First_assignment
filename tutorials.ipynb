{
 "cells": [
  {
   "cell_type": "markdown",
   "id": "3f47c512-581d-4129-8cd9-ec2a791d1860",
   "metadata": {},
   "source": [
    "# Python tutorials\n",
    "## Python introduction\n",
    "Python is a popular programming language. it was created and released in 1991"
   ]
  },
  {
   "cell_type": "markdown",
   "id": "3962210b-929a-4ee0-b79f-21cbb2a6e467",
   "metadata": {},
   "source": [
    "# Python syntax"
   ]
  },
  {
   "cell_type": "code",
   "execution_count": 1,
   "id": "e58d1446-f529-4d35-9e7c-73b479c076cf",
   "metadata": {},
   "outputs": [
    {
     "name": "stdout",
     "output_type": "stream",
     "text": [
      "hello, World\n"
     ]
    }
   ],
   "source": [
    "print(\"hello, World\")"
   ]
  },
  {
   "cell_type": "markdown",
   "id": "aa74469e-b5fa-40f8-8f6e-371744a671d3",
   "metadata": {},
   "source": [
    "# Python comment is denoted by \"#\""
   ]
  },
  {
   "cell_type": "code",
   "execution_count": 2,
   "id": "5f5f3004-0f11-463b-8e1a-ef2b317a0a77",
   "metadata": {},
   "outputs": [
    {
     "name": "stdout",
     "output_type": "stream",
     "text": [
      "Hello world\n"
     ]
    }
   ],
   "source": [
    "#this is a comment\n",
    "print(\"Hello world\")"
   ]
  },
  {
   "cell_type": "code",
   "execution_count": 3,
   "id": "a340ef13-34fa-43e3-a1e7-98a0c608b555",
   "metadata": {},
   "outputs": [
    {
     "name": "stdout",
     "output_type": "stream",
     "text": [
      "5\n",
      "John\n"
     ]
    }
   ],
   "source": [
    "x=5\n",
    "y=\"John\"\n",
    "print(x)\n",
    "print(y)"
   ]
  },
  {
   "cell_type": "code",
   "execution_count": 4,
   "id": "d47ea65e-2f4e-490e-a8a0-225182df7a6c",
   "metadata": {},
   "outputs": [
    {
     "name": "stdout",
     "output_type": "stream",
     "text": [
      "JohnJohnJohnJohnJohn\n"
     ]
    }
   ],
   "source": [
    "x=\"John\"\n",
    "print(x*5)"
   ]
  },
  {
   "cell_type": "code",
   "execution_count": 5,
   "id": "24699c90-0bbe-4b6d-95fe-a33a2f6d30c7",
   "metadata": {},
   "outputs": [
    {
     "name": "stdout",
     "output_type": "stream",
     "text": [
      "<class 'int'>\n"
     ]
    }
   ],
   "source": [
    "x=5\n",
    "print(type(x))"
   ]
  },
  {
   "cell_type": "code",
   "execution_count": 6,
   "id": "4c3a56d9-aa23-47cd-a0bf-95ca106c0d74",
   "metadata": {},
   "outputs": [
    {
     "name": "stdout",
     "output_type": "stream",
     "text": [
      "<class 'str'>\n"
     ]
    }
   ],
   "source": [
    "x=\"John\"\n",
    "print(type(y))"
   ]
  },
  {
   "cell_type": "code",
   "execution_count": 7,
   "id": "4f0d9883-657f-4754-b36f-8e13773091f0",
   "metadata": {},
   "outputs": [
    {
     "name": "stdout",
     "output_type": "stream",
     "text": [
      "<class 'float'>\n"
     ]
    }
   ],
   "source": [
    "x=5.0\n",
    "print(type(x))"
   ]
  },
  {
   "cell_type": "markdown",
   "id": "a5ef899e-e92d-4c64-8e88-23cdaaf7efec",
   "metadata": {},
   "source": [
    "# Casting\n",
    "This involves changing the initial class type to another class of interest"
   ]
  },
  {
   "cell_type": "code",
   "execution_count": 14,
   "id": "726f43f4-08b7-4986-9441-4d7a91f2fd7d",
   "metadata": {},
   "outputs": [
    {
     "name": "stdout",
     "output_type": "stream",
     "text": [
      "3 3.0 3\n"
     ]
    }
   ],
   "source": [
    "x= str(3)\n",
    "y= float(3)\n",
    "z= int(3)\n",
    "print(x,y,z)"
   ]
  },
  {
   "cell_type": "code",
   "execution_count": 16,
   "id": "88df51c1-7849-4324-866c-e860b545cd24",
   "metadata": {},
   "outputs": [
    {
     "name": "stdout",
     "output_type": "stream",
     "text": [
      "mango\n",
      "pineapple\n",
      "watermelon\n"
     ]
    }
   ],
   "source": [
    "x,y,z= \"mango\", \"pineapple\", \"watermelon\"\n",
    "print(x)\n",
    "print(y)\n",
    "print(z)"
   ]
  },
  {
   "cell_type": "code",
   "execution_count": 18,
   "id": "c99df3b0-bfb1-4c83-bbd4-8bdf7ac623f2",
   "metadata": {},
   "outputs": [
    {
     "name": "stdout",
     "output_type": "stream",
     "text": [
      "Mango\n",
      "Mango\n",
      "Mango\n"
     ]
    }
   ],
   "source": [
    "x=y=z=\"Mango\"\n",
    "print(x)\n",
    "print(y)\n",
    "print(z)"
   ]
  },
  {
   "cell_type": "code",
   "execution_count": null,
   "id": "7fee4d03-af2e-4b58-831c-718ae5e3eb3a",
   "metadata": {},
   "outputs": [],
   "source": []
  }
 ],
 "metadata": {
  "kernelspec": {
   "display_name": "Python 3 (ipykernel)",
   "language": "python",
   "name": "python3"
  },
  "language_info": {
   "codemirror_mode": {
    "name": "ipython",
    "version": 3
   },
   "file_extension": ".py",
   "mimetype": "text/x-python",
   "name": "python",
   "nbconvert_exporter": "python",
   "pygments_lexer": "ipython3",
   "version": "3.11.7"
  }
 },
 "nbformat": 4,
 "nbformat_minor": 5
}
