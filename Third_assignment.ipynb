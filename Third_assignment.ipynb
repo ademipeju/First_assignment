{
 "cells": [
  {
   "cell_type": "code",
   "execution_count": 10,
   "metadata": {},
   "outputs": [
    {
     "name": "stdout",
     "output_type": "stream",
     "text": [
      "['Yam', 'Beans', 'Semo']\n"
     ]
    }
   ],
   "source": [
    "#python list\n",
    "this_list = [\"Yam\", \"Beans\", \"Semo\"]\n",
    "print(this_list)"
   ]
  },
  {
   "cell_type": "code",
   "execution_count": 11,
   "metadata": {},
   "outputs": [
    {
     "name": "stdout",
     "output_type": "stream",
     "text": [
      "['Freshyo', 'Hollandia', 'fruita', 'Freshyo', 'zobo']\n"
     ]
    }
   ],
   "source": [
    "#list allows duplicate\n",
    "the_list = [\"Freshyo\", \"Hollandia\", \"fruita\", \"Freshyo\", \"zobo\"]\n",
    "print(the_list)"
   ]
  },
  {
   "cell_type": "code",
   "execution_count": 12,
   "metadata": {},
   "outputs": [
    {
     "name": "stdout",
     "output_type": "stream",
     "text": [
      "3\n"
     ]
    }
   ],
   "source": [
    "#list Length\n",
    "print(len(this_list))"
   ]
  },
  {
   "cell_type": "code",
   "execution_count": 13,
   "metadata": {},
   "outputs": [
    {
     "name": "stdout",
     "output_type": "stream",
     "text": [
      "5\n"
     ]
    }
   ],
   "source": [
    "print(len(the_list))"
   ]
  },
  {
   "cell_type": "markdown",
   "metadata": {},
   "source": [
    "# list items\n",
    "list items can be of any data type"
   ]
  },
  {
   "cell_type": "code",
   "execution_count": 14,
   "metadata": {},
   "outputs": [
    {
     "name": "stdout",
     "output_type": "stream",
     "text": [
      "['Freshyo', 'Hollandia', 'Pure haven']\n",
      "[1, 3, 5, 6, 8, 3, 2] [True, False, True]\n"
     ]
    }
   ],
   "source": [
    "#string, int, and boolean data type examples\n",
    "list1 = [\"Freshyo\", \"Hollandia\", \"Pure haven\"]\n",
    "list2 = [1,3,5,6,8,3,2]\n",
    "list3 = [True, False, True]\n",
    "print(list1)\n",
    "print(list2, list3)"
   ]
  },
  {
   "cell_type": "code",
   "execution_count": 15,
   "metadata": {},
   "outputs": [
    {
     "name": "stdout",
     "output_type": "stream",
     "text": [
      "<class 'list'>\n"
     ]
    }
   ],
   "source": [
    "print(type(list1))"
   ]
  },
  {
   "cell_type": "markdown",
   "metadata": {},
   "source": [
    "# Python - Access List Items\n",
    "## list items are indexed and you can access them by referring to the index number:"
   ]
  },
  {
   "cell_type": "code",
   "execution_count": 16,
   "metadata": {},
   "outputs": [
    {
     "name": "stdout",
     "output_type": "stream",
     "text": [
      "Hollandia\n"
     ]
    }
   ],
   "source": [
    "#Example of Access Items\n",
    "print(the_list[1])"
   ]
  },
  {
   "cell_type": "code",
   "execution_count": 9,
   "metadata": {},
   "outputs": [
    {
     "name": "stdout",
     "output_type": "stream",
     "text": [
      "zobo\n"
     ]
    }
   ],
   "source": [
    "#Negative indexing means start from the end\n",
    "print(the_list[-1])"
   ]
  },
  {
   "cell_type": "code",
   "execution_count": 18,
   "metadata": {},
   "outputs": [
    {
     "name": "stdout",
     "output_type": "stream",
     "text": [
      "yes, 'zobo' is in the drink list\n"
     ]
    }
   ],
   "source": [
    "if \"zobo\" in the_list:\n",
    "    print(\"yes, 'zobo' is in the drink list\")"
   ]
  },
  {
   "cell_type": "code",
   "execution_count": 19,
   "metadata": {},
   "outputs": [
    {
     "name": "stdout",
     "output_type": "stream",
     "text": [
      "['orange', 'Apple', 'Guava', 'Cashew', 'Mango']\n"
     ]
    }
   ],
   "source": [
    "thislist = [\"orange\", \"plantain\", \"watermelon\", \"Cashew\", \"Mango\"]\n",
    "thislist[1:3] = [\"Apple\", \"Guava\"]\n",
    "print(thislist)"
   ]
  },
  {
   "cell_type": "markdown",
   "metadata": {},
   "source": [
    "# Python - Add list Items\n",
    "## To add an item to the end of the list, use the append() method\n"
   ]
  },
  {
   "cell_type": "code",
   "execution_count": 20,
   "metadata": {},
   "outputs": [
    {
     "name": "stdout",
     "output_type": "stream",
     "text": [
      "['orange', 'Apple', 'Guava', 'Cashew', 'Mango', 'Banana']\n"
     ]
    }
   ],
   "source": [
    "thislist.append(\"Banana\")\n",
    "print(thislist)"
   ]
  },
  {
   "cell_type": "code",
   "execution_count": 21,
   "metadata": {},
   "outputs": [
    {
     "name": "stdout",
     "output_type": "stream",
     "text": [
      "['orange', 'Carrot', 'Apple', 'Guava', 'Cashew', 'Mango', 'Banana']\n"
     ]
    }
   ],
   "source": [
    "thislist.insert(1,\"Carrot\")\n",
    "print(thislist)"
   ]
  },
  {
   "cell_type": "code",
   "execution_count": 23,
   "metadata": {},
   "outputs": [
    {
     "name": "stdout",
     "output_type": "stream",
     "text": [
      "['orange', 'Carrot', 'Guava', 'Cashew', 'Mango', 'Banana', 'blend', 'squeeze', 'extract']\n"
     ]
    }
   ],
   "source": [
    "thislist = [\"orange\", \"Carrot\", \"Guava\", \"Cashew\", \"Mango\", \"Banana\"]\n",
    "Tropical = [\"blend\", \"squeeze\", \"extract\"]\n",
    "thislist.extend(Tropical)\n",
    "print(thislist)"
   ]
  },
  {
   "cell_type": "code",
   "execution_count": 25,
   "metadata": {},
   "outputs": [
    {
     "name": "stdout",
     "output_type": "stream",
     "text": [
      "['orange', 'Guava', 'Cashew', 'Mango', 'Banana', 'blend', 'squeeze', 'extract']\n"
     ]
    }
   ],
   "source": [
    "thislist.remove(\"Carrot\")\n",
    "print(thislist)"
   ]
  },
  {
   "cell_type": "code",
   "execution_count": 27,
   "metadata": {},
   "outputs": [
    {
     "name": "stdout",
     "output_type": "stream",
     "text": [
      "['orange', 'Mango', 'Banana', 'blend', 'squeeze', 'extract']\n"
     ]
    }
   ],
   "source": [
    "thislist.pop(1)\n",
    "print(thislist)"
   ]
  },
  {
   "cell_type": "code",
   "execution_count": 28,
   "metadata": {},
   "outputs": [
    {
     "name": "stdout",
     "output_type": "stream",
     "text": [
      "['orange', 'Banana', 'blend', 'squeeze', 'extract']\n"
     ]
    }
   ],
   "source": [
    "thislist.pop(1)\n",
    "print(thislist)"
   ]
  },
  {
   "cell_type": "code",
   "execution_count": 29,
   "metadata": {},
   "outputs": [
    {
     "name": "stdout",
     "output_type": "stream",
     "text": [
      "['Banana', 'blend', 'squeeze', 'extract']\n"
     ]
    }
   ],
   "source": [
    "del thislist [0]\n",
    "print(thislist)"
   ]
  },
  {
   "cell_type": "code",
   "execution_count": 30,
   "metadata": {},
   "outputs": [
    {
     "name": "stdout",
     "output_type": "stream",
     "text": [
      "Banana\n",
      "blend\n",
      "squeeze\n",
      "extract\n"
     ]
    }
   ],
   "source": [
    "#loop through a list; loop through means to print all the items one by one\n",
    "for x in thislist:\n",
    "    print(x)"
   ]
  },
  {
   "cell_type": "code",
   "execution_count": null,
   "metadata": {},
   "outputs": [],
   "source": []
  },
  {
   "cell_type": "markdown",
   "metadata": {},
   "source": []
  },
  {
   "cell_type": "code",
   "execution_count": null,
   "metadata": {},
   "outputs": [],
   "source": []
  },
  {
   "cell_type": "code",
   "execution_count": null,
   "metadata": {},
   "outputs": [],
   "source": []
  },
  {
   "cell_type": "code",
   "execution_count": null,
   "metadata": {},
   "outputs": [],
   "source": []
  },
  {
   "cell_type": "code",
   "execution_count": null,
   "metadata": {},
   "outputs": [],
   "source": []
  }
 ],
 "metadata": {
  "kernelspec": {
   "display_name": "Python 3",
   "language": "python",
   "name": "python3"
  },
  "language_info": {
   "codemirror_mode": {
    "name": "ipython",
    "version": 3
   },
   "file_extension": ".py",
   "mimetype": "text/x-python",
   "name": "python",
   "nbconvert_exporter": "python",
   "pygments_lexer": "ipython3",
   "version": "3.12.3"
  }
 },
 "nbformat": 4,
 "nbformat_minor": 2
}
